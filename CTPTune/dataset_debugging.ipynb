{
 "cells": [
  {
   "cell_type": "code",
   "execution_count": 1,
   "metadata": {},
   "outputs": [],
   "source": [
    "import os\n",
    "import numpy as np\n",
    "import random\n",
    "import glob\n",
    "import warnings\n",
    "import shutil\n",
    "import tqdm\n",
    "from pathlib import Path\n",
    "from terminaltables import AsciiTable\n",
    "\n",
    "from PIL import Image\n",
    "import matplotlib.pyplot as plt\n",
    "import matplotlib.patches as patches\n",
    "import torchvision.transforms as T\n",
    "\n",
    "import torch\n",
    "import torch.nn as nn\n",
    "import torch.optim as optim\n",
    "from torchsummary import summary\n",
    "from torch.utils.data import Dataset, DataLoader, random_split\n",
    "from torchvision import transforms\n",
    "from torchvision.transforms import functional as F\n",
    "\n",
    "from pytorchyolo.models import load_model\n",
    "from pytorchyolo.train import _create_data_loader\n",
    "from pytorchyolo.test import _create_validation_data_loader, _evaluate\n",
    "\n",
    "from pytorchyolo.utils.transforms import *\n",
    "from pytorchyolo.utils.augmentations import AUGMENTATION_TRANSFORMS\n",
    "from pytorchyolo.utils.optimizer import get_optimizer\n",
    "from pytorchyolo.utils.datasets import *\n",
    "from pytorchyolo.utils.logger import Logger\n",
    "from pytorchyolo.utils.loss import compute_loss\n",
    "from pytorchyolo.utils.parse_config import parse_data_config\n",
    "from pytorchyolo.utils.utils import load_classes,provide_determinism,to_cpu"
   ]
  },
  {
   "cell_type": "code",
   "execution_count": 7,
   "metadata": {},
   "outputs": [],
   "source": [
    "class CFG:\n",
    "    if torch.cuda.is_available():\n",
    "      device = 'cuda'  \n",
    "      NUM_DEVICES = torch.cuda.device_count()\n",
    "    elif torch.backends.mps.is_available():\n",
    "      device = 'mps'\n",
    "      NUM_DEVICES = torch.mps.device_count()\n",
    "    else:\n",
    "      device ='cpu' \n",
    "      NUM_DEVICES = os.cpu_count()\n",
    "      \n",
    "    n_cpu=  os.cpu_count()\n",
    "    mini_batch_size = 8\n",
    "    multiscale_training = False\n",
    "    logdir = \"/Users/ayyappatata/DL_P/2/PyTorch-YOLOv3/logs/\"\n",
    "    epochs = 5\n",
    "    seed = 1\n",
    "    checkpoint_interval = 5\n",
    "    evaluation_interval = 5\n",
    "    "
   ]
  },
  {
   "cell_type": "code",
   "execution_count": 8,
   "metadata": {},
   "outputs": [],
   "source": [
    "data_config = parse_data_config(\"./config/custom.data\")\n",
    "train_path = data_config[\"train\"]\n",
    "valid_path = data_config[\"valid\"]\n",
    "class_names = load_classes(data_config[\"names\"])"
   ]
  },
  {
   "cell_type": "code",
   "execution_count": 3,
   "metadata": {},
   "outputs": [],
   "source": [
    "transforms_testing = transforms.Compose([\n",
    "    ToTensor()\n",
    "])"
   ]
  },
  {
   "cell_type": "code",
   "execution_count": 6,
   "metadata": {},
   "outputs": [
    {
     "name": "stderr",
     "output_type": "stream",
     "text": [
      "/var/folders/4y/b_h0g7n103345tnskjhk1_s00000gn/T/ipykernel_49696/3541142265.py:1: FutureWarning: You are using `torch.load` with `weights_only=False` (the current default value), which uses the default pickle module implicitly. It is possible to construct malicious pickle data which will execute arbitrary code during unpickling (See https://github.com/pytorch/pytorch/blob/main/SECURITY.md#untrusted-models for more details). In a future release, the default value for `weights_only` will be flipped to `True`. This limits the functions that could be executed during unpickling. Arbitrary objects will no longer be allowed to be loaded via this mode unless they are explicitly allowlisted by the user via `torch.serialization.add_safe_globals`. We recommend you start setting `weights_only=True` for any use case where you don't have full control of the loaded file. Please open an issue on GitHub for any issues related to this experimental feature.\n",
      "  model = torch.load(\"fzd_model.pt\")\n"
     ]
    }
   ],
   "source": [
    "model = torch.load(\"fzd_model.pt\")"
   ]
  },
  {
   "cell_type": "code",
   "execution_count": 10,
   "metadata": {},
   "outputs": [],
   "source": [
    "dataloader = _create_data_loader(\n",
    "    img_path=train_path,\n",
    "    img_size=416,\n",
    "    batch_size=CFG.mini_batch_size,\n",
    "    n_cpu = CFG.n_cpu)"
   ]
  },
  {
   "cell_type": "code",
   "execution_count": 11,
   "metadata": {},
   "outputs": [
    {
     "data": {
      "text/plain": [
       "Compose(\n",
       "    <pytorchyolo.utils.transforms.ToTensor object at 0x33d5bdc70>\n",
       ")"
      ]
     },
     "execution_count": 11,
     "metadata": {},
     "output_type": "execute_result"
    }
   ],
   "source": [
    "DEFAULT_TRANSFORMS"
   ]
  },
  {
   "cell_type": "code",
   "execution_count": 12,
   "metadata": {},
   "outputs": [],
   "source": [
    "dataset = ListDataset(\n",
    "        train_path,\n",
    "        img_size=416,\n",
    "        multiscale=True,\n",
    "        transform=transforms_testing\n",
    "        )"
   ]
  }
 ],
 "metadata": {
  "kernelspec": {
   "display_name": "tf",
   "language": "python",
   "name": "python3"
  },
  "language_info": {
   "codemirror_mode": {
    "name": "ipython",
    "version": 3
   },
   "file_extension": ".py",
   "mimetype": "text/x-python",
   "name": "python",
   "nbconvert_exporter": "python",
   "pygments_lexer": "ipython3",
   "version": "3.9.18"
  }
 },
 "nbformat": 4,
 "nbformat_minor": 2
}
